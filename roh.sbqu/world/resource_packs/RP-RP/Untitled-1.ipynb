{
 "cells": [
  {
   "cell_type": "code",
   "execution_count": null,
   "metadata": {},
   "outputs": [],
   "source": [
    "` kpl ` `crd ` ID COMMAND WINPI\n"
   ]
  }
 ],
 "metadata": {
  "kernelspec": {
   "display_name": "Python 3.10.6 64-bit",
   "language": "python",
   "name": "python3"
  },
  "language_info": {
   "name": "python",
   "version": "3.10.6"
  },
  "orig_nbformat": 4,
  "vscode": {
   "interpreter": {
    "hash": "2b9b1894c3a80dc6579885f8ce5afd899c534fe4acee734710ab6d6e8fd0c092"
   }
  }
 },
 "nbformat": 4,
 "nbformat_minor": 2
}
